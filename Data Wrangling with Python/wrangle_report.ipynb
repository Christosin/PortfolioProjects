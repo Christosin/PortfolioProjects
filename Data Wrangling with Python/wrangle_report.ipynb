{
 "cells": [
  {
   "cell_type": "markdown",
   "metadata": {},
   "source": [
    "## Reporting: wrangle_report\n",
    "* Create a **300-600 word written report** called \"wrangle_report.pdf\" or \"wrangle_report.html\" that briefly describes your wrangling efforts. This is to be framed as an internal document."
   ]
  },
  {
   "cell_type": "markdown",
   "metadata": {},
   "source": [
    "First, I extracted the Twitter Archive data, and then I extracted the image prediction data from the url using requests.\n",
    "\n",
    "Next, I used the json function to read the json file in.\n",
    "\n",
    "Then I ran a few assessments through. I checked visually, where I found errors like the \"a\", \"an\", \"quite\", \"space\", \"None\", \"old\" in the name column under the twiiter archive dataset.\n",
    "\n",
    "These were the issues I found;\n",
    "\n",
    "### Quality issues\n",
    "\n",
    "1. The \"source\" column has urls surrounding the real source, and should be cleaned.\n",
    "\n",
    "2. \"tweet_id\" columns in both twitter_archive and image datasets, and \"id\" column in tweets_api datasets are in the wrong data types\n",
    "\n",
    "3. The \"in_reply_to_status_id\" and \"in_reply_to_user_id\" columns should be dropped, as we were told we should only concern ourselves with retweets and likes, and not replies.\n",
    "\n",
    "4. Wrong data types for \"timestamp\" and retweet_status_timestamp in the twitter_archive dataset. They should be in datetime data type.\n",
    "\n",
    "5. \"None\" is an inaccurate entry in the doggo, floofer, pupper and puppo columns in the Twitter_archive dataset.\n",
    "\n",
    "6. Take out the rating_denominator column, since we were told the denominator is almost always 10.\n",
    "\n",
    "7. Inconsistent entries like \"a\", \"an\", \"quite\", \"none\", \"the\", \"space\", \"old\" in the name column of the twitter_archive dataset.\n",
    "\n",
    "8. Drop the retweeted_status_id, retweeted_status_user_id and the retweeted_status_timestamp columns in the twitter_archive dataset, as they are not needed.\n",
    "\n",
    "\n",
    "### Tidiness issues\n",
    "1. doggo, floofer, pupper and puppo columns in the Twitter_archive dataset should be merged into one single column.\n",
    "\n",
    "2. The three datasets should be merged into one, as the information, though related, should be in one dataset for ease of analysis.\n",
    "\n",
    "\n",
    "## Cleaning\n",
    "\n",
    "After identifying the various issues relating to quality and tidyness, first, I made copies of each dataset, so as to preserve the original datasets from the changes I am making. Then I proceeded to using various techniques to clean each data issue.\n",
    "\n",
    "1. I isolated the texts that had only the real sources of the tweets, which were Twitter for iPhone, Vine - Make a Scene, Twitter Web Client and TweetDeck, by using the str.extract function.\n",
    "\n",
    "2. I changed all the wrong data types to the right data types using the astype function.\n",
    "\n",
    "3. I dropped the unneeded columns by writing a function for it.\n",
    "\n",
    "4. I replaced the \"None\"s in the dog stages columns to NANs.\n",
    "\n",
    "5. I replaced the inconsistent entries like \"a\", \"an\", \"quite\", \"none\", \"the\", \"space\", \"old\" in the name column of the twitter_archive dataset with NANs.\n",
    "\n",
    "6. I combined the dog stages into one single column.\n",
    "\n",
    "7. I merged the three datasets using the merge function.\n",
    "\n",
    "After all these, I saved the combined dataset for future use."
   ]
  }
 ],
 "metadata": {
  "kernelspec": {
   "display_name": "Python 3",
   "language": "python",
   "name": "python3"
  },
  "language_info": {
   "codemirror_mode": {
    "name": "ipython",
    "version": 3
   },
   "file_extension": ".py",
   "mimetype": "text/x-python",
   "name": "python",
   "nbconvert_exporter": "python",
   "pygments_lexer": "ipython3",
   "version": "3.6.3"
  }
 },
 "nbformat": 4,
 "nbformat_minor": 2
}
