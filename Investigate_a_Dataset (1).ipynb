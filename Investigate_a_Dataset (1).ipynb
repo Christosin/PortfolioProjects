{
 "cells": [
  {
   "cell_type": "markdown",
   "metadata": {},
   "source": [
    "# Project: Investigate a Dataset - [Soccer Database]\n",
    "\n",
    "## Table of Contents\n",
    "<ul>\n",
    "<li><a href=\"#intro\">Introduction</a></li>\n",
    "<li><a href=\"#wrangling\">Data Wrangling</a></li>\n",
    "<li><a href=\"#eda\">Exploratory Data Analysis</a></li>\n",
    "<li><a href=\"#conclusions\">Conclusions</a></li>\n",
    "</ul>"
   ]
  },
  {
   "cell_type": "markdown",
   "metadata": {},
   "source": [
    "<a id='intro'></a>\n",
    "## Introduction\n"
   ]
  },
  {
   "cell_type": "markdown",
   "metadata": {},
   "source": [
    "## Dataset Description\n",
    "\n",
    "### I have chosen to work with the Soccer Database, particularly because of my keen interest in football. The database contains data for soccer matches, players, and teams from several European countries from 2008 to 2016. \n",
    "\n",
    "### We have multiple tables in this database, and I will be combining the Player and Player attributes tables to make data explorations and conclusions to make further analysis."
   ]
  },
  {
   "cell_type": "markdown",
   "metadata": {},
   "source": [
    "## Questions for analysis\n",
    "\n",
    "\n",
    "#### 1. How does the vision attribute of a creative playmaker correlate with his other playmaking attributes dribbling, free_kick_accuracy, long passing, and short passing? (A creative playmaker is known for their vision, long_passing, dribbling, short passing and freekick accuracy)\n",
    "#### 2. Are the attributes heading accuracy, shot power, long shots and volleys related to the finishing of a player?\n",
    "\n",
    "#### 3. Is the overall rating of all the players normally distributed?"
   ]
  },
  {
   "cell_type": "markdown",
   "metadata": {},
   "source": [
    "## Import Python Libraries"
   ]
  },
  {
   "cell_type": "code",
   "execution_count": 1,
   "metadata": {},
   "outputs": [],
   "source": [
    "import numpy as np\n",
    "import pandas as pd\n",
    "import matplotlib.pyplot as plt\n",
    "import seaborn as sns\n",
    "% matplotlib inline\n"
   ]
  },
  {
   "cell_type": "markdown",
   "metadata": {
    "scrolled": false
   },
   "source": [
    "# Upgrade pandas to use dataframe.explode() function. \n",
    "!pip install --upgrade pandas==0.25.1"
   ]
  },
  {
   "cell_type": "markdown",
   "metadata": {},
   "source": [
    "<a id='wrangling'></a>\n",
    "## Data Wrangling\n",
    "\n",
    "\n",
    "\n",
    "\n",
    "### General Properties\n"
   ]
  },
  {
   "cell_type": "code",
   "execution_count": 2,
   "metadata": {
    "scrolled": true
   },
   "outputs": [
    {
     "data": {
      "text/html": [
       "<div>\n",
       "<style scoped>\n",
       "    .dataframe tbody tr th:only-of-type {\n",
       "        vertical-align: middle;\n",
       "    }\n",
       "\n",
       "    .dataframe tbody tr th {\n",
       "        vertical-align: top;\n",
       "    }\n",
       "\n",
       "    .dataframe thead th {\n",
       "        text-align: right;\n",
       "    }\n",
       "</style>\n",
       "<table border=\"1\" class=\"dataframe\">\n",
       "  <thead>\n",
       "    <tr style=\"text-align: right;\">\n",
       "      <th></th>\n",
       "      <th>id</th>\n",
       "      <th>player_fifa_api_id</th>\n",
       "      <th>player_api_id</th>\n",
       "      <th>date</th>\n",
       "      <th>overall_rating</th>\n",
       "      <th>potential</th>\n",
       "      <th>preferred_foot</th>\n",
       "      <th>attacking_work_rate</th>\n",
       "      <th>defensive_work_rate</th>\n",
       "      <th>crossing</th>\n",
       "      <th>...</th>\n",
       "      <th>vision</th>\n",
       "      <th>penalties</th>\n",
       "      <th>marking</th>\n",
       "      <th>standing_tackle</th>\n",
       "      <th>sliding_tackle</th>\n",
       "      <th>gk_diving</th>\n",
       "      <th>gk_handling</th>\n",
       "      <th>gk_kicking</th>\n",
       "      <th>gk_positioning</th>\n",
       "      <th>gk_reflexes</th>\n",
       "    </tr>\n",
       "  </thead>\n",
       "  <tbody>\n",
       "    <tr>\n",
       "      <th>0</th>\n",
       "      <td>1</td>\n",
       "      <td>218353</td>\n",
       "      <td>505942</td>\n",
       "      <td>2016-02-18 00:00:00</td>\n",
       "      <td>67.0</td>\n",
       "      <td>71.0</td>\n",
       "      <td>right</td>\n",
       "      <td>medium</td>\n",
       "      <td>medium</td>\n",
       "      <td>49.0</td>\n",
       "      <td>...</td>\n",
       "      <td>54.0</td>\n",
       "      <td>48.0</td>\n",
       "      <td>65.0</td>\n",
       "      <td>69.0</td>\n",
       "      <td>69.0</td>\n",
       "      <td>6.0</td>\n",
       "      <td>11.0</td>\n",
       "      <td>10.0</td>\n",
       "      <td>8.0</td>\n",
       "      <td>8.0</td>\n",
       "    </tr>\n",
       "    <tr>\n",
       "      <th>1</th>\n",
       "      <td>2</td>\n",
       "      <td>218353</td>\n",
       "      <td>505942</td>\n",
       "      <td>2015-11-19 00:00:00</td>\n",
       "      <td>67.0</td>\n",
       "      <td>71.0</td>\n",
       "      <td>right</td>\n",
       "      <td>medium</td>\n",
       "      <td>medium</td>\n",
       "      <td>49.0</td>\n",
       "      <td>...</td>\n",
       "      <td>54.0</td>\n",
       "      <td>48.0</td>\n",
       "      <td>65.0</td>\n",
       "      <td>69.0</td>\n",
       "      <td>69.0</td>\n",
       "      <td>6.0</td>\n",
       "      <td>11.0</td>\n",
       "      <td>10.0</td>\n",
       "      <td>8.0</td>\n",
       "      <td>8.0</td>\n",
       "    </tr>\n",
       "    <tr>\n",
       "      <th>2</th>\n",
       "      <td>3</td>\n",
       "      <td>218353</td>\n",
       "      <td>505942</td>\n",
       "      <td>2015-09-21 00:00:00</td>\n",
       "      <td>62.0</td>\n",
       "      <td>66.0</td>\n",
       "      <td>right</td>\n",
       "      <td>medium</td>\n",
       "      <td>medium</td>\n",
       "      <td>49.0</td>\n",
       "      <td>...</td>\n",
       "      <td>54.0</td>\n",
       "      <td>48.0</td>\n",
       "      <td>65.0</td>\n",
       "      <td>66.0</td>\n",
       "      <td>69.0</td>\n",
       "      <td>6.0</td>\n",
       "      <td>11.0</td>\n",
       "      <td>10.0</td>\n",
       "      <td>8.0</td>\n",
       "      <td>8.0</td>\n",
       "    </tr>\n",
       "    <tr>\n",
       "      <th>3</th>\n",
       "      <td>4</td>\n",
       "      <td>218353</td>\n",
       "      <td>505942</td>\n",
       "      <td>2015-03-20 00:00:00</td>\n",
       "      <td>61.0</td>\n",
       "      <td>65.0</td>\n",
       "      <td>right</td>\n",
       "      <td>medium</td>\n",
       "      <td>medium</td>\n",
       "      <td>48.0</td>\n",
       "      <td>...</td>\n",
       "      <td>53.0</td>\n",
       "      <td>47.0</td>\n",
       "      <td>62.0</td>\n",
       "      <td>63.0</td>\n",
       "      <td>66.0</td>\n",
       "      <td>5.0</td>\n",
       "      <td>10.0</td>\n",
       "      <td>9.0</td>\n",
       "      <td>7.0</td>\n",
       "      <td>7.0</td>\n",
       "    </tr>\n",
       "    <tr>\n",
       "      <th>4</th>\n",
       "      <td>5</td>\n",
       "      <td>218353</td>\n",
       "      <td>505942</td>\n",
       "      <td>2007-02-22 00:00:00</td>\n",
       "      <td>61.0</td>\n",
       "      <td>65.0</td>\n",
       "      <td>right</td>\n",
       "      <td>medium</td>\n",
       "      <td>medium</td>\n",
       "      <td>48.0</td>\n",
       "      <td>...</td>\n",
       "      <td>53.0</td>\n",
       "      <td>47.0</td>\n",
       "      <td>62.0</td>\n",
       "      <td>63.0</td>\n",
       "      <td>66.0</td>\n",
       "      <td>5.0</td>\n",
       "      <td>10.0</td>\n",
       "      <td>9.0</td>\n",
       "      <td>7.0</td>\n",
       "      <td>7.0</td>\n",
       "    </tr>\n",
       "  </tbody>\n",
       "</table>\n",
       "<p>5 rows × 42 columns</p>\n",
       "</div>"
      ],
      "text/plain": [
       "   id  player_fifa_api_id  player_api_id                 date  overall_rating  \\\n",
       "0   1              218353         505942  2016-02-18 00:00:00            67.0   \n",
       "1   2              218353         505942  2015-11-19 00:00:00            67.0   \n",
       "2   3              218353         505942  2015-09-21 00:00:00            62.0   \n",
       "3   4              218353         505942  2015-03-20 00:00:00            61.0   \n",
       "4   5              218353         505942  2007-02-22 00:00:00            61.0   \n",
       "\n",
       "   potential preferred_foot attacking_work_rate defensive_work_rate  crossing  \\\n",
       "0       71.0          right              medium              medium      49.0   \n",
       "1       71.0          right              medium              medium      49.0   \n",
       "2       66.0          right              medium              medium      49.0   \n",
       "3       65.0          right              medium              medium      48.0   \n",
       "4       65.0          right              medium              medium      48.0   \n",
       "\n",
       "      ...       vision  penalties  marking  standing_tackle  sliding_tackle  \\\n",
       "0     ...         54.0       48.0     65.0             69.0            69.0   \n",
       "1     ...         54.0       48.0     65.0             69.0            69.0   \n",
       "2     ...         54.0       48.0     65.0             66.0            69.0   \n",
       "3     ...         53.0       47.0     62.0             63.0            66.0   \n",
       "4     ...         53.0       47.0     62.0             63.0            66.0   \n",
       "\n",
       "   gk_diving  gk_handling  gk_kicking  gk_positioning  gk_reflexes  \n",
       "0        6.0         11.0        10.0             8.0          8.0  \n",
       "1        6.0         11.0        10.0             8.0          8.0  \n",
       "2        6.0         11.0        10.0             8.0          8.0  \n",
       "3        5.0         10.0         9.0             7.0          7.0  \n",
       "4        5.0         10.0         9.0             7.0          7.0  \n",
       "\n",
       "[5 rows x 42 columns]"
      ]
     },
     "execution_count": 2,
     "metadata": {},
     "output_type": "execute_result"
    }
   ],
   "source": [
    "pl = pd.read_csv('Database_Soccer/Player.csv')\n",
    "pa = pd.read_csv('Database_Soccer/Player_Attributes.csv')\n",
    "\n",
    "pa.head()"
   ]
  },
  {
   "cell_type": "code",
   "execution_count": 3,
   "metadata": {
    "scrolled": true
   },
   "outputs": [
    {
     "data": {
      "text/html": [
       "<div>\n",
       "<style scoped>\n",
       "    .dataframe tbody tr th:only-of-type {\n",
       "        vertical-align: middle;\n",
       "    }\n",
       "\n",
       "    .dataframe tbody tr th {\n",
       "        vertical-align: top;\n",
       "    }\n",
       "\n",
       "    .dataframe thead th {\n",
       "        text-align: right;\n",
       "    }\n",
       "</style>\n",
       "<table border=\"1\" class=\"dataframe\">\n",
       "  <thead>\n",
       "    <tr style=\"text-align: right;\">\n",
       "      <th></th>\n",
       "      <th>id</th>\n",
       "      <th>player_api_id</th>\n",
       "      <th>player_name</th>\n",
       "      <th>player_fifa_api_id</th>\n",
       "      <th>birthday</th>\n",
       "      <th>height</th>\n",
       "      <th>weight</th>\n",
       "    </tr>\n",
       "  </thead>\n",
       "  <tbody>\n",
       "    <tr>\n",
       "      <th>0</th>\n",
       "      <td>1</td>\n",
       "      <td>505942</td>\n",
       "      <td>Aaron Appindangoye</td>\n",
       "      <td>218353</td>\n",
       "      <td>1992-02-29 00:00:00</td>\n",
       "      <td>182.88</td>\n",
       "      <td>187</td>\n",
       "    </tr>\n",
       "    <tr>\n",
       "      <th>1</th>\n",
       "      <td>2</td>\n",
       "      <td>155782</td>\n",
       "      <td>Aaron Cresswell</td>\n",
       "      <td>189615</td>\n",
       "      <td>1989-12-15 00:00:00</td>\n",
       "      <td>170.18</td>\n",
       "      <td>146</td>\n",
       "    </tr>\n",
       "    <tr>\n",
       "      <th>2</th>\n",
       "      <td>3</td>\n",
       "      <td>162549</td>\n",
       "      <td>Aaron Doran</td>\n",
       "      <td>186170</td>\n",
       "      <td>1991-05-13 00:00:00</td>\n",
       "      <td>170.18</td>\n",
       "      <td>163</td>\n",
       "    </tr>\n",
       "    <tr>\n",
       "      <th>3</th>\n",
       "      <td>4</td>\n",
       "      <td>30572</td>\n",
       "      <td>Aaron Galindo</td>\n",
       "      <td>140161</td>\n",
       "      <td>1982-05-08 00:00:00</td>\n",
       "      <td>182.88</td>\n",
       "      <td>198</td>\n",
       "    </tr>\n",
       "    <tr>\n",
       "      <th>4</th>\n",
       "      <td>5</td>\n",
       "      <td>23780</td>\n",
       "      <td>Aaron Hughes</td>\n",
       "      <td>17725</td>\n",
       "      <td>1979-11-08 00:00:00</td>\n",
       "      <td>182.88</td>\n",
       "      <td>154</td>\n",
       "    </tr>\n",
       "  </tbody>\n",
       "</table>\n",
       "</div>"
      ],
      "text/plain": [
       "   id  player_api_id         player_name  player_fifa_api_id  \\\n",
       "0   1         505942  Aaron Appindangoye              218353   \n",
       "1   2         155782     Aaron Cresswell              189615   \n",
       "2   3         162549         Aaron Doran              186170   \n",
       "3   4          30572       Aaron Galindo              140161   \n",
       "4   5          23780        Aaron Hughes               17725   \n",
       "\n",
       "              birthday  height  weight  \n",
       "0  1992-02-29 00:00:00  182.88     187  \n",
       "1  1989-12-15 00:00:00  170.18     146  \n",
       "2  1991-05-13 00:00:00  170.18     163  \n",
       "3  1982-05-08 00:00:00  182.88     198  \n",
       "4  1979-11-08 00:00:00  182.88     154  "
      ]
     },
     "execution_count": 3,
     "metadata": {},
     "output_type": "execute_result"
    }
   ],
   "source": [
    "pl.head()"
   ]
  },
  {
   "cell_type": "markdown",
   "metadata": {},
   "source": [
    "### Looking through the available columns, and also looking for missing data values"
   ]
  },
  {
   "cell_type": "code",
   "execution_count": 4,
   "metadata": {
    "scrolled": false
   },
   "outputs": [
    {
     "name": "stdout",
     "output_type": "stream",
     "text": [
      "<class 'pandas.core.frame.DataFrame'>\n",
      "RangeIndex: 183978 entries, 0 to 183977\n",
      "Data columns (total 42 columns):\n",
      "id                     183978 non-null int64\n",
      "player_fifa_api_id     183978 non-null int64\n",
      "player_api_id          183978 non-null int64\n",
      "date                   183978 non-null object\n",
      "overall_rating         183142 non-null float64\n",
      "potential              183142 non-null float64\n",
      "preferred_foot         183142 non-null object\n",
      "attacking_work_rate    180748 non-null object\n",
      "defensive_work_rate    183142 non-null object\n",
      "crossing               183142 non-null float64\n",
      "finishing              183142 non-null float64\n",
      "heading_accuracy       183142 non-null float64\n",
      "short_passing          183142 non-null float64\n",
      "volleys                181265 non-null float64\n",
      "dribbling              183142 non-null float64\n",
      "curve                  181265 non-null float64\n",
      "free_kick_accuracy     183142 non-null float64\n",
      "long_passing           183142 non-null float64\n",
      "ball_control           183142 non-null float64\n",
      "acceleration           183142 non-null float64\n",
      "sprint_speed           183142 non-null float64\n",
      "agility                181265 non-null float64\n",
      "reactions              183142 non-null float64\n",
      "balance                181265 non-null float64\n",
      "shot_power             183142 non-null float64\n",
      "jumping                181265 non-null float64\n",
      "stamina                183142 non-null float64\n",
      "strength               183142 non-null float64\n",
      "long_shots             183142 non-null float64\n",
      "aggression             183142 non-null float64\n",
      "interceptions          183142 non-null float64\n",
      "positioning            183142 non-null float64\n",
      "vision                 181265 non-null float64\n",
      "penalties              183142 non-null float64\n",
      "marking                183142 non-null float64\n",
      "standing_tackle        183142 non-null float64\n",
      "sliding_tackle         181265 non-null float64\n",
      "gk_diving              183142 non-null float64\n",
      "gk_handling            183142 non-null float64\n",
      "gk_kicking             183142 non-null float64\n",
      "gk_positioning         183142 non-null float64\n",
      "gk_reflexes            183142 non-null float64\n",
      "dtypes: float64(35), int64(3), object(4)\n",
      "memory usage: 59.0+ MB\n"
     ]
    }
   ],
   "source": [
    "pa.info()"
   ]
  },
  {
   "cell_type": "code",
   "execution_count": 5,
   "metadata": {
    "scrolled": false
   },
   "outputs": [
    {
     "name": "stdout",
     "output_type": "stream",
     "text": [
      "<class 'pandas.core.frame.DataFrame'>\n",
      "RangeIndex: 11060 entries, 0 to 11059\n",
      "Data columns (total 7 columns):\n",
      "id                    11060 non-null int64\n",
      "player_api_id         11060 non-null int64\n",
      "player_name           11060 non-null object\n",
      "player_fifa_api_id    11060 non-null int64\n",
      "birthday              11060 non-null object\n",
      "height                11060 non-null float64\n",
      "weight                11060 non-null int64\n",
      "dtypes: float64(1), int64(4), object(2)\n",
      "memory usage: 604.9+ KB\n"
     ]
    }
   ],
   "source": [
    "pl.info()"
   ]
  },
  {
   "cell_type": "markdown",
   "metadata": {},
   "source": [
    "\n",
    "### Data Cleaning\n",
    " "
   ]
  },
  {
   "cell_type": "markdown",
   "metadata": {},
   "source": [
    "## Combining Player datafile with Player Attributes datafile and removing columns irrelevant to the questions for our analysis"
   ]
  },
  {
   "cell_type": "code",
   "execution_count": 6,
   "metadata": {
    "scrolled": false
   },
   "outputs": [
    {
     "data": {
      "text/html": [
       "<div>\n",
       "<style scoped>\n",
       "    .dataframe tbody tr th:only-of-type {\n",
       "        vertical-align: middle;\n",
       "    }\n",
       "\n",
       "    .dataframe tbody tr th {\n",
       "        vertical-align: top;\n",
       "    }\n",
       "\n",
       "    .dataframe thead th {\n",
       "        text-align: right;\n",
       "    }\n",
       "</style>\n",
       "<table border=\"1\" class=\"dataframe\">\n",
       "  <thead>\n",
       "    <tr style=\"text-align: right;\">\n",
       "      <th></th>\n",
       "      <th>id_x</th>\n",
       "      <th>player_api_id</th>\n",
       "      <th>player_name</th>\n",
       "      <th>player_fifa_api_id_x</th>\n",
       "      <th>birthday</th>\n",
       "      <th>height</th>\n",
       "      <th>weight</th>\n",
       "      <th>id_y</th>\n",
       "      <th>player_fifa_api_id_y</th>\n",
       "      <th>date</th>\n",
       "      <th>...</th>\n",
       "      <th>vision</th>\n",
       "      <th>penalties</th>\n",
       "      <th>marking</th>\n",
       "      <th>standing_tackle</th>\n",
       "      <th>sliding_tackle</th>\n",
       "      <th>gk_diving</th>\n",
       "      <th>gk_handling</th>\n",
       "      <th>gk_kicking</th>\n",
       "      <th>gk_positioning</th>\n",
       "      <th>gk_reflexes</th>\n",
       "    </tr>\n",
       "  </thead>\n",
       "  <tbody>\n",
       "    <tr>\n",
       "      <th>0</th>\n",
       "      <td>1</td>\n",
       "      <td>505942</td>\n",
       "      <td>Aaron Appindangoye</td>\n",
       "      <td>218353</td>\n",
       "      <td>1992-02-29 00:00:00</td>\n",
       "      <td>182.88</td>\n",
       "      <td>187</td>\n",
       "      <td>1</td>\n",
       "      <td>218353</td>\n",
       "      <td>2016-02-18 00:00:00</td>\n",
       "      <td>...</td>\n",
       "      <td>54.0</td>\n",
       "      <td>48.0</td>\n",
       "      <td>65.0</td>\n",
       "      <td>69.0</td>\n",
       "      <td>69.0</td>\n",
       "      <td>6.0</td>\n",
       "      <td>11.0</td>\n",
       "      <td>10.0</td>\n",
       "      <td>8.0</td>\n",
       "      <td>8.0</td>\n",
       "    </tr>\n",
       "    <tr>\n",
       "      <th>1</th>\n",
       "      <td>1</td>\n",
       "      <td>505942</td>\n",
       "      <td>Aaron Appindangoye</td>\n",
       "      <td>218353</td>\n",
       "      <td>1992-02-29 00:00:00</td>\n",
       "      <td>182.88</td>\n",
       "      <td>187</td>\n",
       "      <td>2</td>\n",
       "      <td>218353</td>\n",
       "      <td>2015-11-19 00:00:00</td>\n",
       "      <td>...</td>\n",
       "      <td>54.0</td>\n",
       "      <td>48.0</td>\n",
       "      <td>65.0</td>\n",
       "      <td>69.0</td>\n",
       "      <td>69.0</td>\n",
       "      <td>6.0</td>\n",
       "      <td>11.0</td>\n",
       "      <td>10.0</td>\n",
       "      <td>8.0</td>\n",
       "      <td>8.0</td>\n",
       "    </tr>\n",
       "    <tr>\n",
       "      <th>2</th>\n",
       "      <td>1</td>\n",
       "      <td>505942</td>\n",
       "      <td>Aaron Appindangoye</td>\n",
       "      <td>218353</td>\n",
       "      <td>1992-02-29 00:00:00</td>\n",
       "      <td>182.88</td>\n",
       "      <td>187</td>\n",
       "      <td>3</td>\n",
       "      <td>218353</td>\n",
       "      <td>2015-09-21 00:00:00</td>\n",
       "      <td>...</td>\n",
       "      <td>54.0</td>\n",
       "      <td>48.0</td>\n",
       "      <td>65.0</td>\n",
       "      <td>66.0</td>\n",
       "      <td>69.0</td>\n",
       "      <td>6.0</td>\n",
       "      <td>11.0</td>\n",
       "      <td>10.0</td>\n",
       "      <td>8.0</td>\n",
       "      <td>8.0</td>\n",
       "    </tr>\n",
       "    <tr>\n",
       "      <th>3</th>\n",
       "      <td>1</td>\n",
       "      <td>505942</td>\n",
       "      <td>Aaron Appindangoye</td>\n",
       "      <td>218353</td>\n",
       "      <td>1992-02-29 00:00:00</td>\n",
       "      <td>182.88</td>\n",
       "      <td>187</td>\n",
       "      <td>4</td>\n",
       "      <td>218353</td>\n",
       "      <td>2015-03-20 00:00:00</td>\n",
       "      <td>...</td>\n",
       "      <td>53.0</td>\n",
       "      <td>47.0</td>\n",
       "      <td>62.0</td>\n",
       "      <td>63.0</td>\n",
       "      <td>66.0</td>\n",
       "      <td>5.0</td>\n",
       "      <td>10.0</td>\n",
       "      <td>9.0</td>\n",
       "      <td>7.0</td>\n",
       "      <td>7.0</td>\n",
       "    </tr>\n",
       "    <tr>\n",
       "      <th>4</th>\n",
       "      <td>1</td>\n",
       "      <td>505942</td>\n",
       "      <td>Aaron Appindangoye</td>\n",
       "      <td>218353</td>\n",
       "      <td>1992-02-29 00:00:00</td>\n",
       "      <td>182.88</td>\n",
       "      <td>187</td>\n",
       "      <td>5</td>\n",
       "      <td>218353</td>\n",
       "      <td>2007-02-22 00:00:00</td>\n",
       "      <td>...</td>\n",
       "      <td>53.0</td>\n",
       "      <td>47.0</td>\n",
       "      <td>62.0</td>\n",
       "      <td>63.0</td>\n",
       "      <td>66.0</td>\n",
       "      <td>5.0</td>\n",
       "      <td>10.0</td>\n",
       "      <td>9.0</td>\n",
       "      <td>7.0</td>\n",
       "      <td>7.0</td>\n",
       "    </tr>\n",
       "  </tbody>\n",
       "</table>\n",
       "<p>5 rows × 48 columns</p>\n",
       "</div>"
      ],
      "text/plain": [
       "   id_x  player_api_id         player_name  player_fifa_api_id_x  \\\n",
       "0     1         505942  Aaron Appindangoye                218353   \n",
       "1     1         505942  Aaron Appindangoye                218353   \n",
       "2     1         505942  Aaron Appindangoye                218353   \n",
       "3     1         505942  Aaron Appindangoye                218353   \n",
       "4     1         505942  Aaron Appindangoye                218353   \n",
       "\n",
       "              birthday  height  weight  id_y  player_fifa_api_id_y  \\\n",
       "0  1992-02-29 00:00:00  182.88     187     1                218353   \n",
       "1  1992-02-29 00:00:00  182.88     187     2                218353   \n",
       "2  1992-02-29 00:00:00  182.88     187     3                218353   \n",
       "3  1992-02-29 00:00:00  182.88     187     4                218353   \n",
       "4  1992-02-29 00:00:00  182.88     187     5                218353   \n",
       "\n",
       "                  date     ...       vision  penalties marking  \\\n",
       "0  2016-02-18 00:00:00     ...         54.0       48.0    65.0   \n",
       "1  2015-11-19 00:00:00     ...         54.0       48.0    65.0   \n",
       "2  2015-09-21 00:00:00     ...         54.0       48.0    65.0   \n",
       "3  2015-03-20 00:00:00     ...         53.0       47.0    62.0   \n",
       "4  2007-02-22 00:00:00     ...         53.0       47.0    62.0   \n",
       "\n",
       "  standing_tackle sliding_tackle  gk_diving  gk_handling  gk_kicking  \\\n",
       "0            69.0           69.0        6.0         11.0        10.0   \n",
       "1            69.0           69.0        6.0         11.0        10.0   \n",
       "2            66.0           69.0        6.0         11.0        10.0   \n",
       "3            63.0           66.0        5.0         10.0         9.0   \n",
       "4            63.0           66.0        5.0         10.0         9.0   \n",
       "\n",
       "   gk_positioning  gk_reflexes  \n",
       "0             8.0          8.0  \n",
       "1             8.0          8.0  \n",
       "2             8.0          8.0  \n",
       "3             7.0          7.0  \n",
       "4             7.0          7.0  \n",
       "\n",
       "[5 rows x 48 columns]"
      ]
     },
     "execution_count": 6,
     "metadata": {},
     "output_type": "execute_result"
    }
   ],
   "source": [
    "pl_combined = pl.merge(pa, left_on='player_api_id', right_on='player_api_id', how='inner')\n",
    "\n",
    "pl_combined.head()"
   ]
  },
  {
   "cell_type": "code",
   "execution_count": 7,
   "metadata": {},
   "outputs": [
    {
     "name": "stdout",
     "output_type": "stream",
     "text": [
      "<class 'pandas.core.frame.DataFrame'>\n",
      "Int64Index: 183978 entries, 0 to 183977\n",
      "Data columns (total 48 columns):\n",
      "id_x                    183978 non-null int64\n",
      "player_api_id           183978 non-null int64\n",
      "player_name             183978 non-null object\n",
      "player_fifa_api_id_x    183978 non-null int64\n",
      "birthday                183978 non-null object\n",
      "height                  183978 non-null float64\n",
      "weight                  183978 non-null int64\n",
      "id_y                    183978 non-null int64\n",
      "player_fifa_api_id_y    183978 non-null int64\n",
      "date                    183978 non-null object\n",
      "overall_rating          183142 non-null float64\n",
      "potential               183142 non-null float64\n",
      "preferred_foot          183142 non-null object\n",
      "attacking_work_rate     180748 non-null object\n",
      "defensive_work_rate     183142 non-null object\n",
      "crossing                183142 non-null float64\n",
      "finishing               183142 non-null float64\n",
      "heading_accuracy        183142 non-null float64\n",
      "short_passing           183142 non-null float64\n",
      "volleys                 181265 non-null float64\n",
      "dribbling               183142 non-null float64\n",
      "curve                   181265 non-null float64\n",
      "free_kick_accuracy      183142 non-null float64\n",
      "long_passing            183142 non-null float64\n",
      "ball_control            183142 non-null float64\n",
      "acceleration            183142 non-null float64\n",
      "sprint_speed            183142 non-null float64\n",
      "agility                 181265 non-null float64\n",
      "reactions               183142 non-null float64\n",
      "balance                 181265 non-null float64\n",
      "shot_power              183142 non-null float64\n",
      "jumping                 181265 non-null float64\n",
      "stamina                 183142 non-null float64\n",
      "strength                183142 non-null float64\n",
      "long_shots              183142 non-null float64\n",
      "aggression              183142 non-null float64\n",
      "interceptions           183142 non-null float64\n",
      "positioning             183142 non-null float64\n",
      "vision                  181265 non-null float64\n",
      "penalties               183142 non-null float64\n",
      "marking                 183142 non-null float64\n",
      "standing_tackle         183142 non-null float64\n",
      "sliding_tackle          181265 non-null float64\n",
      "gk_diving               183142 non-null float64\n",
      "gk_handling             183142 non-null float64\n",
      "gk_kicking              183142 non-null float64\n",
      "gk_positioning          183142 non-null float64\n",
      "gk_reflexes             183142 non-null float64\n",
      "dtypes: float64(36), int64(6), object(6)\n",
      "memory usage: 68.8+ MB\n"
     ]
    }
   ],
   "source": [
    "pl_combined.info()"
   ]
  },
  {
   "cell_type": "markdown",
   "metadata": {},
   "source": [
    "### Removing columns irrelevant to our questions. Out of the 48 columns, I only need 12 columns to carry out my analysis. So, I am selecting those 12, instead of trying to drop 36 columns, which will be more strenuous."
   ]
  },
  {
   "cell_type": "code",
   "execution_count": 8,
   "metadata": {},
   "outputs": [
    {
     "data": {
      "text/html": [
       "<div>\n",
       "<style scoped>\n",
       "    .dataframe tbody tr th:only-of-type {\n",
       "        vertical-align: middle;\n",
       "    }\n",
       "\n",
       "    .dataframe tbody tr th {\n",
       "        vertical-align: top;\n",
       "    }\n",
       "\n",
       "    .dataframe thead th {\n",
       "        text-align: right;\n",
       "    }\n",
       "</style>\n",
       "<table border=\"1\" class=\"dataframe\">\n",
       "  <thead>\n",
       "    <tr style=\"text-align: right;\">\n",
       "      <th></th>\n",
       "      <th>player_name</th>\n",
       "      <th>overall_rating</th>\n",
       "      <th>finishing</th>\n",
       "      <th>heading_accuracy</th>\n",
       "      <th>short_passing</th>\n",
       "      <th>volleys</th>\n",
       "      <th>dribbling</th>\n",
       "      <th>free_kick_accuracy</th>\n",
       "      <th>long_passing</th>\n",
       "      <th>shot_power</th>\n",
       "      <th>long_shots</th>\n",
       "      <th>vision</th>\n",
       "    </tr>\n",
       "  </thead>\n",
       "  <tbody>\n",
       "    <tr>\n",
       "      <th>0</th>\n",
       "      <td>Aaron Appindangoye</td>\n",
       "      <td>67.0</td>\n",
       "      <td>44.0</td>\n",
       "      <td>71.0</td>\n",
       "      <td>61.0</td>\n",
       "      <td>44.0</td>\n",
       "      <td>51.0</td>\n",
       "      <td>39.0</td>\n",
       "      <td>64.0</td>\n",
       "      <td>55.0</td>\n",
       "      <td>35.0</td>\n",
       "      <td>54.0</td>\n",
       "    </tr>\n",
       "    <tr>\n",
       "      <th>1</th>\n",
       "      <td>Aaron Appindangoye</td>\n",
       "      <td>67.0</td>\n",
       "      <td>44.0</td>\n",
       "      <td>71.0</td>\n",
       "      <td>61.0</td>\n",
       "      <td>44.0</td>\n",
       "      <td>51.0</td>\n",
       "      <td>39.0</td>\n",
       "      <td>64.0</td>\n",
       "      <td>55.0</td>\n",
       "      <td>35.0</td>\n",
       "      <td>54.0</td>\n",
       "    </tr>\n",
       "    <tr>\n",
       "      <th>2</th>\n",
       "      <td>Aaron Appindangoye</td>\n",
       "      <td>62.0</td>\n",
       "      <td>44.0</td>\n",
       "      <td>71.0</td>\n",
       "      <td>61.0</td>\n",
       "      <td>44.0</td>\n",
       "      <td>51.0</td>\n",
       "      <td>39.0</td>\n",
       "      <td>64.0</td>\n",
       "      <td>55.0</td>\n",
       "      <td>35.0</td>\n",
       "      <td>54.0</td>\n",
       "    </tr>\n",
       "    <tr>\n",
       "      <th>3</th>\n",
       "      <td>Aaron Appindangoye</td>\n",
       "      <td>61.0</td>\n",
       "      <td>43.0</td>\n",
       "      <td>70.0</td>\n",
       "      <td>60.0</td>\n",
       "      <td>43.0</td>\n",
       "      <td>50.0</td>\n",
       "      <td>38.0</td>\n",
       "      <td>63.0</td>\n",
       "      <td>54.0</td>\n",
       "      <td>34.0</td>\n",
       "      <td>53.0</td>\n",
       "    </tr>\n",
       "    <tr>\n",
       "      <th>4</th>\n",
       "      <td>Aaron Appindangoye</td>\n",
       "      <td>61.0</td>\n",
       "      <td>43.0</td>\n",
       "      <td>70.0</td>\n",
       "      <td>60.0</td>\n",
       "      <td>43.0</td>\n",
       "      <td>50.0</td>\n",
       "      <td>38.0</td>\n",
       "      <td>63.0</td>\n",
       "      <td>54.0</td>\n",
       "      <td>34.0</td>\n",
       "      <td>53.0</td>\n",
       "    </tr>\n",
       "  </tbody>\n",
       "</table>\n",
       "</div>"
      ],
      "text/plain": [
       "          player_name  overall_rating  finishing  heading_accuracy  \\\n",
       "0  Aaron Appindangoye            67.0       44.0              71.0   \n",
       "1  Aaron Appindangoye            67.0       44.0              71.0   \n",
       "2  Aaron Appindangoye            62.0       44.0              71.0   \n",
       "3  Aaron Appindangoye            61.0       43.0              70.0   \n",
       "4  Aaron Appindangoye            61.0       43.0              70.0   \n",
       "\n",
       "   short_passing  volleys  dribbling  free_kick_accuracy  long_passing  \\\n",
       "0           61.0     44.0       51.0                39.0          64.0   \n",
       "1           61.0     44.0       51.0                39.0          64.0   \n",
       "2           61.0     44.0       51.0                39.0          64.0   \n",
       "3           60.0     43.0       50.0                38.0          63.0   \n",
       "4           60.0     43.0       50.0                38.0          63.0   \n",
       "\n",
       "   shot_power  long_shots  vision  \n",
       "0        55.0        35.0    54.0  \n",
       "1        55.0        35.0    54.0  \n",
       "2        55.0        35.0    54.0  \n",
       "3        54.0        34.0    53.0  \n",
       "4        54.0        34.0    53.0  "
      ]
     },
     "execution_count": 8,
     "metadata": {},
     "output_type": "execute_result"
    }
   ],
   "source": [
    "pl_sieved = pl_combined[['player_name', 'overall_rating', 'finishing', 'heading_accuracy', 'short_passing', 'volleys', 'dribbling', 'free_kick_accuracy', 'long_passing', 'shot_power', 'long_shots', 'vision']].copy()\n",
    "\n",
    "pl_sieved.head()"
   ]
  },
  {
   "cell_type": "code",
   "execution_count": 9,
   "metadata": {
    "scrolled": true
   },
   "outputs": [
    {
     "name": "stdout",
     "output_type": "stream",
     "text": [
      "<class 'pandas.core.frame.DataFrame'>\n",
      "Int64Index: 183978 entries, 0 to 183977\n",
      "Data columns (total 12 columns):\n",
      "player_name           183978 non-null object\n",
      "overall_rating        183142 non-null float64\n",
      "finishing             183142 non-null float64\n",
      "heading_accuracy      183142 non-null float64\n",
      "short_passing         183142 non-null float64\n",
      "volleys               181265 non-null float64\n",
      "dribbling             183142 non-null float64\n",
      "free_kick_accuracy    183142 non-null float64\n",
      "long_passing          183142 non-null float64\n",
      "shot_power            183142 non-null float64\n",
      "long_shots            183142 non-null float64\n",
      "vision                181265 non-null float64\n",
      "dtypes: float64(11), object(1)\n",
      "memory usage: 18.2+ MB\n"
     ]
    }
   ],
   "source": [
    "pl_sieved.info()"
   ]
  },
  {
   "cell_type": "markdown",
   "metadata": {},
   "source": [
    "## Check for duplicates"
   ]
  },
  {
   "cell_type": "code",
   "execution_count": 10,
   "metadata": {},
   "outputs": [
    {
     "data": {
      "text/plain": [
       "76785"
      ]
     },
     "execution_count": 10,
     "metadata": {},
     "output_type": "execute_result"
    }
   ],
   "source": [
    "sum(pl_sieved.duplicated())"
   ]
  },
  {
   "cell_type": "markdown",
   "metadata": {},
   "source": [
    "## Drop Duplicates"
   ]
  },
  {
   "cell_type": "code",
   "execution_count": 11,
   "metadata": {},
   "outputs": [],
   "source": [
    "pl_sieved.drop_duplicates (inplace=True)"
   ]
  },
  {
   "cell_type": "markdown",
   "metadata": {},
   "source": [
    "## Check if there are still duplicates"
   ]
  },
  {
   "cell_type": "code",
   "execution_count": 12,
   "metadata": {
    "scrolled": true
   },
   "outputs": [
    {
     "data": {
      "text/plain": [
       "0"
      ]
     },
     "execution_count": 12,
     "metadata": {},
     "output_type": "execute_result"
    }
   ],
   "source": [
    "sum(pl_sieved.duplicated())"
   ]
  },
  {
   "cell_type": "code",
   "execution_count": 13,
   "metadata": {
    "scrolled": true
   },
   "outputs": [
    {
     "data": {
      "text/html": [
       "<div>\n",
       "<style scoped>\n",
       "    .dataframe tbody tr th:only-of-type {\n",
       "        vertical-align: middle;\n",
       "    }\n",
       "\n",
       "    .dataframe tbody tr th {\n",
       "        vertical-align: top;\n",
       "    }\n",
       "\n",
       "    .dataframe thead th {\n",
       "        text-align: right;\n",
       "    }\n",
       "</style>\n",
       "<table border=\"1\" class=\"dataframe\">\n",
       "  <thead>\n",
       "    <tr style=\"text-align: right;\">\n",
       "      <th></th>\n",
       "      <th>player_name</th>\n",
       "      <th>overall_rating</th>\n",
       "      <th>finishing</th>\n",
       "      <th>heading_accuracy</th>\n",
       "      <th>short_passing</th>\n",
       "      <th>volleys</th>\n",
       "      <th>dribbling</th>\n",
       "      <th>free_kick_accuracy</th>\n",
       "      <th>long_passing</th>\n",
       "      <th>shot_power</th>\n",
       "      <th>long_shots</th>\n",
       "      <th>vision</th>\n",
       "    </tr>\n",
       "  </thead>\n",
       "  <tbody>\n",
       "    <tr>\n",
       "      <th>0</th>\n",
       "      <td>Aaron Appindangoye</td>\n",
       "      <td>67.0</td>\n",
       "      <td>44.0</td>\n",
       "      <td>71.0</td>\n",
       "      <td>61.0</td>\n",
       "      <td>44.0</td>\n",
       "      <td>51.0</td>\n",
       "      <td>39.0</td>\n",
       "      <td>64.0</td>\n",
       "      <td>55.0</td>\n",
       "      <td>35.0</td>\n",
       "      <td>54.0</td>\n",
       "    </tr>\n",
       "    <tr>\n",
       "      <th>2</th>\n",
       "      <td>Aaron Appindangoye</td>\n",
       "      <td>62.0</td>\n",
       "      <td>44.0</td>\n",
       "      <td>71.0</td>\n",
       "      <td>61.0</td>\n",
       "      <td>44.0</td>\n",
       "      <td>51.0</td>\n",
       "      <td>39.0</td>\n",
       "      <td>64.0</td>\n",
       "      <td>55.0</td>\n",
       "      <td>35.0</td>\n",
       "      <td>54.0</td>\n",
       "    </tr>\n",
       "    <tr>\n",
       "      <th>3</th>\n",
       "      <td>Aaron Appindangoye</td>\n",
       "      <td>61.0</td>\n",
       "      <td>43.0</td>\n",
       "      <td>70.0</td>\n",
       "      <td>60.0</td>\n",
       "      <td>43.0</td>\n",
       "      <td>50.0</td>\n",
       "      <td>38.0</td>\n",
       "      <td>63.0</td>\n",
       "      <td>54.0</td>\n",
       "      <td>34.0</td>\n",
       "      <td>53.0</td>\n",
       "    </tr>\n",
       "    <tr>\n",
       "      <th>5</th>\n",
       "      <td>Aaron Cresswell</td>\n",
       "      <td>74.0</td>\n",
       "      <td>53.0</td>\n",
       "      <td>58.0</td>\n",
       "      <td>71.0</td>\n",
       "      <td>40.0</td>\n",
       "      <td>73.0</td>\n",
       "      <td>69.0</td>\n",
       "      <td>68.0</td>\n",
       "      <td>71.0</td>\n",
       "      <td>62.0</td>\n",
       "      <td>66.0</td>\n",
       "    </tr>\n",
       "    <tr>\n",
       "      <th>6</th>\n",
       "      <td>Aaron Cresswell</td>\n",
       "      <td>74.0</td>\n",
       "      <td>53.0</td>\n",
       "      <td>58.0</td>\n",
       "      <td>71.0</td>\n",
       "      <td>32.0</td>\n",
       "      <td>73.0</td>\n",
       "      <td>69.0</td>\n",
       "      <td>68.0</td>\n",
       "      <td>71.0</td>\n",
       "      <td>60.0</td>\n",
       "      <td>66.0</td>\n",
       "    </tr>\n",
       "  </tbody>\n",
       "</table>\n",
       "</div>"
      ],
      "text/plain": [
       "          player_name  overall_rating  finishing  heading_accuracy  \\\n",
       "0  Aaron Appindangoye            67.0       44.0              71.0   \n",
       "2  Aaron Appindangoye            62.0       44.0              71.0   \n",
       "3  Aaron Appindangoye            61.0       43.0              70.0   \n",
       "5     Aaron Cresswell            74.0       53.0              58.0   \n",
       "6     Aaron Cresswell            74.0       53.0              58.0   \n",
       "\n",
       "   short_passing  volleys  dribbling  free_kick_accuracy  long_passing  \\\n",
       "0           61.0     44.0       51.0                39.0          64.0   \n",
       "2           61.0     44.0       51.0                39.0          64.0   \n",
       "3           60.0     43.0       50.0                38.0          63.0   \n",
       "5           71.0     40.0       73.0                69.0          68.0   \n",
       "6           71.0     32.0       73.0                69.0          68.0   \n",
       "\n",
       "   shot_power  long_shots  vision  \n",
       "0        55.0        35.0    54.0  \n",
       "2        55.0        35.0    54.0  \n",
       "3        54.0        34.0    53.0  \n",
       "5        71.0        62.0    66.0  \n",
       "6        71.0        60.0    66.0  "
      ]
     },
     "execution_count": 13,
     "metadata": {},
     "output_type": "execute_result"
    }
   ],
   "source": [
    "pl_sieved.head()"
   ]
  },
  {
   "cell_type": "code",
   "execution_count": 14,
   "metadata": {},
   "outputs": [
    {
     "name": "stdout",
     "output_type": "stream",
     "text": [
      "<class 'pandas.core.frame.DataFrame'>\n",
      "Int64Index: 107193 entries, 0 to 183977\n",
      "Data columns (total 12 columns):\n",
      "player_name           107193 non-null object\n",
      "overall_rating        106438 non-null float64\n",
      "finishing             106438 non-null float64\n",
      "heading_accuracy      106438 non-null float64\n",
      "short_passing         106438 non-null float64\n",
      "volleys               105030 non-null float64\n",
      "dribbling             106438 non-null float64\n",
      "free_kick_accuracy    106438 non-null float64\n",
      "long_passing          106438 non-null float64\n",
      "shot_power            106438 non-null float64\n",
      "long_shots            106438 non-null float64\n",
      "vision                105030 non-null float64\n",
      "dtypes: float64(11), object(1)\n",
      "memory usage: 10.6+ MB\n"
     ]
    }
   ],
   "source": [
    "pl_sieved.info()"
   ]
  },
  {
   "cell_type": "markdown",
   "metadata": {},
   "source": [
    "<a id='eda'></a>\n",
    "## Exploratory Data Analysis\n",
    "\n",
    "### Research Question 1 \n",
    "\n",
    "### 1. How does the vision attribute of a creative playmaker correlate with his other playmaking attributes dribbling, free_kick_accuracy, long passing, and short passing? (A creative playmaker is known for their vision, long_passing, dribbling, short passing and freekick accuracy)"
   ]
  },
  {
   "cell_type": "markdown",
   "metadata": {},
   "source": [
    "### Compute Statistics\n",
    "\n",
    "#### Find the mean of the attributes of each player, related to their playmaking and creative abilities over the number of years represented for a player. The qualities 'short_passing', 'dribbling', 'long_passing', 'free_kick_accuracy' and 'vision' are attributes relating to a player's creative and playmaking abilities. It is only right to aggregate their attributes across the years provided."
   ]
  },
  {
   "cell_type": "code",
   "execution_count": 15,
   "metadata": {
    "scrolled": true
   },
   "outputs": [
    {
     "data": {
      "text/html": [
       "<div>\n",
       "<style scoped>\n",
       "    .dataframe tbody tr th:only-of-type {\n",
       "        vertical-align: middle;\n",
       "    }\n",
       "\n",
       "    .dataframe tbody tr th {\n",
       "        vertical-align: top;\n",
       "    }\n",
       "\n",
       "    .dataframe thead th {\n",
       "        text-align: right;\n",
       "    }\n",
       "</style>\n",
       "<table border=\"1\" class=\"dataframe\">\n",
       "  <thead>\n",
       "    <tr style=\"text-align: right;\">\n",
       "      <th></th>\n",
       "      <th>short_passing</th>\n",
       "      <th>dribbling</th>\n",
       "      <th>long_passing</th>\n",
       "      <th>vision</th>\n",
       "      <th>free_kick_accuracy</th>\n",
       "    </tr>\n",
       "    <tr>\n",
       "      <th>player_name</th>\n",
       "      <th></th>\n",
       "      <th></th>\n",
       "      <th></th>\n",
       "      <th></th>\n",
       "      <th></th>\n",
       "    </tr>\n",
       "  </thead>\n",
       "  <tbody>\n",
       "    <tr>\n",
       "      <th>Aaron Appindangoye</th>\n",
       "      <td>60.600000</td>\n",
       "      <td>50.600000</td>\n",
       "      <td>63.600000</td>\n",
       "      <td>53.600000</td>\n",
       "      <td>38.600000</td>\n",
       "    </tr>\n",
       "    <tr>\n",
       "      <th>Aaron Cresswell</th>\n",
       "      <td>62.272727</td>\n",
       "      <td>61.090909</td>\n",
       "      <td>63.242424</td>\n",
       "      <td>57.454545</td>\n",
       "      <td>62.121212</td>\n",
       "    </tr>\n",
       "    <tr>\n",
       "      <th>Aaron Doran</th>\n",
       "      <td>65.115385</td>\n",
       "      <td>69.038462</td>\n",
       "      <td>60.461538</td>\n",
       "      <td>69.384615</td>\n",
       "      <td>55.615385</td>\n",
       "    </tr>\n",
       "    <tr>\n",
       "      <th>Aaron Galindo</th>\n",
       "      <td>64.695652</td>\n",
       "      <td>55.565217</td>\n",
       "      <td>60.826087</td>\n",
       "      <td>53.782609</td>\n",
       "      <td>40.391304</td>\n",
       "    </tr>\n",
       "    <tr>\n",
       "      <th>Aaron Hughes</th>\n",
       "      <td>64.760000</td>\n",
       "      <td>50.600000</td>\n",
       "      <td>56.840000</td>\n",
       "      <td>46.480000</td>\n",
       "      <td>26.360000</td>\n",
       "    </tr>\n",
       "  </tbody>\n",
       "</table>\n",
       "</div>"
      ],
      "text/plain": [
       "                    short_passing  dribbling  long_passing     vision  \\\n",
       "player_name                                                             \n",
       "Aaron Appindangoye      60.600000  50.600000     63.600000  53.600000   \n",
       "Aaron Cresswell         62.272727  61.090909     63.242424  57.454545   \n",
       "Aaron Doran             65.115385  69.038462     60.461538  69.384615   \n",
       "Aaron Galindo           64.695652  55.565217     60.826087  53.782609   \n",
       "Aaron Hughes            64.760000  50.600000     56.840000  46.480000   \n",
       "\n",
       "                    free_kick_accuracy  \n",
       "player_name                             \n",
       "Aaron Appindangoye           38.600000  \n",
       "Aaron Cresswell              62.121212  \n",
       "Aaron Doran                  55.615385  \n",
       "Aaron Galindo                40.391304  \n",
       "Aaron Hughes                 26.360000  "
      ]
     },
     "execution_count": 15,
     "metadata": {},
     "output_type": "execute_result"
    }
   ],
   "source": [
    "pm_mean = pl_combined.groupby(['player_name'])['short_passing', 'dribbling', 'long_passing', 'vision', 'free_kick_accuracy'].mean()\n",
    "\n",
    "pm_mean.head()"
   ]
  },
  {
   "cell_type": "markdown",
   "metadata": {},
   "source": [
    "### Create Visualizations\n",
    "\n",
    "#### Plot a scatter plot to check for correlation between a player's vision, and his other playmaking attributes. This is because a scatter plot is used for 2d exploration."
   ]
  },
  {
   "cell_type": "code",
   "execution_count": 16,
   "metadata": {},
   "outputs": [],
   "source": [
    "def show_scatter(var1, var2):\n",
    "    \n",
    "    plt.scatter(x = pm_mean[var1], y = [pm_mean[var2]])\n",
    "    plt.xlabel(var1)\n",
    "    plt.ylabel(var2)\n",
    "    plt.title(f'{var2} against {var1}')\n"
   ]
  },
  {
   "cell_type": "markdown",
   "metadata": {},
   "source": [
    "#### A creative playmaker is known for their vision, long_passing, dribbling, short passing and freekick accuracy). So, scatter plots will be made to compare the correlation between the vision attribute and other playmaking attributes."
   ]
  },
  {
   "cell_type": "code",
   "execution_count": 17,
   "metadata": {
    "scrolled": false
   },
   "outputs": [
    {
     "data": {
      "image/png": "[encoded data removed]",
      "text/plain": [
       "<matplotlib.figure.Figure at 0x7f00ba82e518>"
      ]
     },
     "metadata": {
      "needs_background": "light"
     },
     "output_type": "display_data"
    }
   ],
   "source": [
    "show_scatter('long_passing', 'vision')"
   ]
  },
  {
   "cell_type": "markdown",
   "metadata": {},
   "source": [
    "#### This shows a strong positive correlation between vision and long_passing. It means a player with a good vision is likely going to be a good long passer of the ball."
   ]
  },
  {
   "cell_type": "code",
   "execution_count": 18,
   "metadata": {},
   "outputs": [
    {
     "data": {
      "image/png": "[encoded data removed]",
      "text/plain": [
       "<matplotlib.figure.Figure at 0x7f00b9713080>"
      ]
     },
     "metadata": {
      "needs_background": "light"
     },
     "output_type": "display_data"
    }
   ],
   "source": [
    "show_scatter('short_passing', 'vision')"
   ]
  },
  {
   "cell_type": "markdown",
   "metadata": {},
   "source": [
    "#### This shows a strong positive correlation between vision and short_passing. It means a player with a good vision is likely going to be a good passer of the ball in close spaces."
   ]
  },
  {
   "cell_type": "code",
   "execution_count": 19,
   "metadata": {},
   "outputs": [
    {
     "data": {
      "image/png": "[encoded data removed]",
      "text/plain": [
       "<matplotlib.figure.Figure at 0x7f00b9725cc0>"
      ]
     },
     "metadata": {
      "needs_background": "light"
     },
     "output_type": "display_data"
    }
   ],
   "source": [
    "show_scatter('dribbling', 'vision')"
   ]
  },
  {
   "cell_type": "markdown",
   "metadata": {},
   "source": [
    "#### This shows a strong positive correlation between vision and dribbling. It means a player with a good vision is likely going to be a good dribbler of the ball, and a flair player."
   ]
  },
  {
   "cell_type": "code",
   "execution_count": 20,
   "metadata": {},
   "outputs": [
    {
     "data": {
      "image/png": "[encoded data removed]",
      "text/plain": [
       "<matplotlib.figure.Figure at 0x7f00b91d3ac8>"
      ]
     },
     "metadata": {
      "needs_background": "light"
     },
     "output_type": "display_data"
    }
   ],
   "source": [
    "show_scatter('free_kick_accuracy', 'vision')"
   ]
  },
  {
   "cell_type": "markdown",
   "metadata": {},
   "source": [
    "#### This shows a strong positive correlation between vision and free kicks. It means a player with a good vision is likely going to be a good freekick taker."
   ]
  },
  {
   "cell_type": "markdown",
   "metadata": {},
   "source": [
    "### Research Question 2\n",
    "\n",
    "#### Are the attributes heading accuracy, shot power, long shots and volleys related to the finishing of a player?"
   ]
  },
  {
   "cell_type": "markdown",
   "metadata": {},
   "source": [
    "### Compute Statistics\n",
    "\n",
    "#### Find the mean of the attributes of each player, related to their attacking prowess over the number of years represented for a player. The qualities 'shot_power', 'long_shots', 'volleys', 'heading_accuracy' and 'finishing' are attributes relating to a player's finishing ability. It is only right to aggregate their attributes across the years provided."
   ]
  },
  {
   "cell_type": "code",
   "execution_count": 21,
   "metadata": {
    "scrolled": true
   },
   "outputs": [
    {
     "data": {
      "text/html": [
       "<div>\n",
       "<style scoped>\n",
       "    .dataframe tbody tr th:only-of-type {\n",
       "        vertical-align: middle;\n",
       "    }\n",
       "\n",
       "    .dataframe tbody tr th {\n",
       "        vertical-align: top;\n",
       "    }\n",
       "\n",
       "    .dataframe thead th {\n",
       "        text-align: right;\n",
       "    }\n",
       "</style>\n",
       "<table border=\"1\" class=\"dataframe\">\n",
       "  <thead>\n",
       "    <tr style=\"text-align: right;\">\n",
       "      <th></th>\n",
       "      <th>shot_power</th>\n",
       "      <th>long_shots</th>\n",
       "      <th>volleys</th>\n",
       "      <th>heading_accuracy</th>\n",
       "      <th>finishing</th>\n",
       "    </tr>\n",
       "    <tr>\n",
       "      <th>player_name</th>\n",
       "      <th></th>\n",
       "      <th></th>\n",
       "      <th></th>\n",
       "      <th></th>\n",
       "      <th></th>\n",
       "    </tr>\n",
       "  </thead>\n",
       "  <tbody>\n",
       "    <tr>\n",
       "      <th>Aaron Appindangoye</th>\n",
       "      <td>54.600000</td>\n",
       "      <td>34.600000</td>\n",
       "      <td>43.600000</td>\n",
       "      <td>70.600000</td>\n",
       "      <td>43.600000</td>\n",
       "    </tr>\n",
       "    <tr>\n",
       "      <th>Aaron Cresswell</th>\n",
       "      <td>65.909091</td>\n",
       "      <td>54.121212</td>\n",
       "      <td>29.151515</td>\n",
       "      <td>52.939394</td>\n",
       "      <td>49.454545</td>\n",
       "    </tr>\n",
       "    <tr>\n",
       "      <th>Aaron Doran</th>\n",
       "      <td>62.807692</td>\n",
       "      <td>58.038462</td>\n",
       "      <td>54.269231</td>\n",
       "      <td>58.692308</td>\n",
       "      <td>57.923077</td>\n",
       "    </tr>\n",
       "    <tr>\n",
       "      <th>Aaron Galindo</th>\n",
       "      <td>64.869565</td>\n",
       "      <td>31.304348</td>\n",
       "      <td>47.782609</td>\n",
       "      <td>69.260870</td>\n",
       "      <td>26.260870</td>\n",
       "    </tr>\n",
       "    <tr>\n",
       "      <th>Aaron Hughes</th>\n",
       "      <td>47.080000</td>\n",
       "      <td>24.280000</td>\n",
       "      <td>32.080000</td>\n",
       "      <td>73.040000</td>\n",
       "      <td>38.840000</td>\n",
       "    </tr>\n",
       "  </tbody>\n",
       "</table>\n",
       "</div>"
      ],
      "text/plain": [
       "                    shot_power  long_shots    volleys  heading_accuracy  \\\n",
       "player_name                                                               \n",
       "Aaron Appindangoye   54.600000   34.600000  43.600000         70.600000   \n",
       "Aaron Cresswell      65.909091   54.121212  29.151515         52.939394   \n",
       "Aaron Doran          62.807692   58.038462  54.269231         58.692308   \n",
       "Aaron Galindo        64.869565   31.304348  47.782609         69.260870   \n",
       "Aaron Hughes         47.080000   24.280000  32.080000         73.040000   \n",
       "\n",
       "                    finishing  \n",
       "player_name                    \n",
       "Aaron Appindangoye  43.600000  \n",
       "Aaron Cresswell     49.454545  \n",
       "Aaron Doran         57.923077  \n",
       "Aaron Galindo       26.260870  \n",
       "Aaron Hughes        38.840000  "
      ]
     },
     "execution_count": 21,
     "metadata": {},
     "output_type": "execute_result"
    }
   ],
   "source": [
    "st_mean = pl_combined.groupby(['player_name'])['shot_power', 'long_shots', 'volleys', 'heading_accuracy', 'finishing'].mean()\n",
    "\n",
    "st_mean.head()"
   ]
  },
  {
   "cell_type": "markdown",
   "metadata": {
    "collapsed": true
   },
   "source": [
    "### Create visualizations\n",
    "\n",
    "#### Plot the relationships between finishing and the other variables\n"
   ]
  },
  {
   "cell_type": "markdown",
   "metadata": {},
   "source": [
    "#### Create a function for the scatter plot. This is because a scatter plot is used for 2d exploration."
   ]
  },
  {
   "cell_type": "code",
   "execution_count": 22,
   "metadata": {},
   "outputs": [],
   "source": [
    "def st_scatter(var1, var2):\n",
    "    \n",
    "    plt.scatter(x = st_mean[var1], y = [st_mean[var2]])\n",
    "    plt.xlabel(var1)\n",
    "    plt.ylabel(var2)\n",
    "    plt.title(f'{var2} against {var1}')"
   ]
  },
  {
   "cell_type": "markdown",
   "metadata": {},
   "source": [
    "#### A good finisher's attacking prowess is based on the attributes of their finishing, long shorts, volleys, shot power and heading accuracy. So, scatter plots will be made to compare the correlation between the finishing attribute and other attacking attributes."
   ]
  },
  {
   "cell_type": "code",
   "execution_count": 23,
   "metadata": {
    "scrolled": false
   },
   "outputs": [
    {
     "data": {
      "image/png": "[encoded data removed]",
      "text/plain": [
       "<matplotlib.figure.Figure at 0x7f00b9209780>"
      ]
     },
     "metadata": {
      "needs_background": "light"
     },
     "output_type": "display_data"
    }
   ],
   "source": [
    "st_scatter('shot_power', 'finishing')"
   ]
  },
  {
   "cell_type": "markdown",
   "metadata": {},
   "source": [
    "#### This shows a strong positive correlation between finishing and shot power. It means a player with a good finishing is likely going to have a high shot power."
   ]
  },
  {
   "cell_type": "code",
   "execution_count": 24,
   "metadata": {},
   "outputs": [
    {
     "data": {
      "image/png": "[encoded data removed]",
      "text/plain": [
       "<matplotlib.figure.Figure at 0x7f00b910f908>"
      ]
     },
     "metadata": {
      "needs_background": "light"
     },
     "output_type": "display_data"
    }
   ],
   "source": [
    "st_scatter('long_shots', 'finishing')"
   ]
  },
  {
   "cell_type": "markdown",
   "metadata": {},
   "source": [
    "#### This shows a strong positive correlation between finishing and long shots. It means a player with a good finishing is likely going to be able to shoot from long range."
   ]
  },
  {
   "cell_type": "code",
   "execution_count": 25,
   "metadata": {},
   "outputs": [
    {
     "data": {
      "image/png": "[encoded data removed]",
      "text/plain": [
       "<matplotlib.figure.Figure at 0x7f00b90d2e80>"
      ]
     },
     "metadata": {
      "needs_background": "light"
     },
     "output_type": "display_data"
    }
   ],
   "source": [
    "st_scatter('heading_accuracy', 'finishing')"
   ]
  },
  {
   "cell_type": "markdown",
   "metadata": {},
   "source": [
    "#### This shows a strong positive correlation between finishing and heading accuracy. Only that this heading accuracy plot shows a wider spread of the plots, though still positively correlated.\n",
    "\n",
    "#### This is most likely because heading accuracy is not just an attribute of strikers, but also defenders. Hence a defender can most likely have a good heading accuracy, yet it is not for finishing, and it is instead for defensive clearances (though defenders still head the ball for finishing from set pieces). You will see this from the plot above, that there are a good number of players with high heading accuracy, yet relatively low finishing.\n",
    "\n",
    "#### Because of the strong positive correlation, we can still say a player with a good finishing is likely going to be a good header of the ball."
   ]
  },
  {
   "cell_type": "code",
   "execution_count": 26,
   "metadata": {},
   "outputs": [
    {
     "data": {
      "image/png": "[encoded data removed]",
      "text/plain": [
       "<matplotlib.figure.Figure at 0x7f00b90afd30>"
      ]
     },
     "metadata": {
      "needs_background": "light"
     },
     "output_type": "display_data"
    }
   ],
   "source": [
    "st_scatter('volleys', 'finishing')"
   ]
  },
  {
   "cell_type": "markdown",
   "metadata": {},
   "source": [
    "#### This shows a strong positive correlation between finishing and volleys. Volleys are usually about the technique, which is an important attribute of attackers. This plot means a player with a good finishing is likely going to be able to have the technique to take volleys."
   ]
  },
  {
   "cell_type": "markdown",
   "metadata": {},
   "source": [
    "### Research Question 3\n",
    "\n",
    "### Is the overall rating of all the players normally distributed?"
   ]
  },
  {
   "cell_type": "markdown",
   "metadata": {},
   "source": [
    "#### First, extract the mean and standard deviation of overall rating, because these are important statistics to decide on normal distribution."
   ]
  },
  {
   "cell_type": "code",
   "execution_count": 27,
   "metadata": {
    "scrolled": true
   },
   "outputs": [
    {
     "data": {
      "text/plain": [
       "68.600015288683096"
      ]
     },
     "execution_count": 27,
     "metadata": {},
     "output_type": "execute_result"
    }
   ],
   "source": [
    "or_mean = pl_combined['overall_rating'].mean()\n",
    "\n",
    "or_mean"
   ]
  },
  {
   "cell_type": "code",
   "execution_count": 28,
   "metadata": {},
   "outputs": [
    {
     "data": {
      "text/plain": [
       "7.0411394817953088"
      ]
     },
     "execution_count": 28,
     "metadata": {},
     "output_type": "execute_result"
    }
   ],
   "source": [
    "or_std = pl_combined['overall_rating'].std()\n",
    "\n",
    "or_std"
   ]
  },
  {
   "cell_type": "markdown",
   "metadata": {},
   "source": [
    "#### Create a function to draw the histogram to show normal distribution. This is because a histogram is a good way to represent normal distribution."
   ]
  },
  {
   "cell_type": "code",
   "execution_count": 29,
   "metadata": {},
   "outputs": [],
   "source": [
    "def draw_hist(data, x_label, y_label, p_title, figsize = (16,16)):\n",
    "    data.hist()\n",
    "    plt.xlabel(x_label)\n",
    "    plt.ylabel(y_label)\n",
    "    plt.title(p_title)"
   ]
  },
  {
   "cell_type": "markdown",
   "metadata": {},
   "source": [
    "#### Draw histogram"
   ]
  },
  {
   "cell_type": "code",
   "execution_count": 30,
   "metadata": {
    "scrolled": false
   },
   "outputs": [
    {
     "data": {
      "image/png": "[encoded data removed]",
      "text/plain": [
       "<matplotlib.figure.Figure at 0x7f00b904c470>"
      ]
     },
     "metadata": {
      "needs_background": "light"
     },
     "output_type": "display_data"
    }
   ],
   "source": [
    "draw_hist(pl_combined['overall_rating'], 'Overall Rating', 'Number of Players', 'Distribution of Player Performance')\n"
   ]
  },
  {
   "cell_type": "markdown",
   "metadata": {},
   "source": [
    "#### From the histogram above, there is a good normal distribution around the mean (68.60), and the relative distance of the ratings from the mean, which is representative of the standard deviation (7.04), are within reasonable range. Hence the data gives a reasonable representation of real life scenarios of ratings in the soccer profession since the histogram is relatively normally distributed."
   ]
  },
  {
   "cell_type": "markdown",
   "metadata": {},
   "source": [
    "## Conclusions"
   ]
  },
  {
   "cell_type": "markdown",
   "metadata": {},
   "source": [
    "### Research Question 1\n",
    "\n",
    "#### 1. How does the vision attribute of a creative playmaker correlate with his other playmaking attributes dribbling, free_kick_accuracy, long passing, and short passing? (A creative playmaker is known for their vision, long passing, dribbling, short passing and freekick accuracy)"
   ]
  },
  {
   "cell_type": "markdown",
   "metadata": {},
   "source": [
    "From the scatter plots that showed the relationships between the vision attribute of a player and other attributes like long passing, shot passing, dribbling and free kick accuracy, we see a strong positive correlation between them. This shows that the attribute vision which is an important playmaking attribute in real life scenarios, will be a successful variable alongside the other attributes like long passing, shot passing, dribbling and free kick accuracy in determining whether or not a player has good playmaking skills.\n",
    "\n",
    "Predictive analysis can be brought in as further research. Here, all the attributes plotted against vision in the scatter plot can be aggregated for each player, and this can be used to get another scatter plot. With a trend line from the scatter plot, both vision and the aggregated attributes of a playmaker can be determined.\n",
    "\n",
    "One limitation to this data analysis is however the inability to know the positions that the players play, so as to accurately peg some of these analysis to certain players, especially midfielders and forwards."
   ]
  },
  {
   "cell_type": "markdown",
   "metadata": {},
   "source": [
    "### Research Question 2\n",
    "\n",
    "#### 2. Are the attributes heading accuracy, shot power, long shots and volleys related to the finishing of a player?"
   ]
  },
  {
   "cell_type": "markdown",
   "metadata": {},
   "source": [
    "Judging from the scatter plots that showed the relationships between the finishing attribute of a player and other attributes like shot power, volleys, long shots and heading accuracy, we see a strong positive correlation between them. Only the heading accuracy plot shows a wider spread of the plots, though still positively correlated.\n",
    "\n",
    "This is most likely because heading accuracy is not just an attribute of strikers, but also defenders. Hence a defender can most likely have a good heading accuracy, yet it is not for finishing, and it is instead for defensive clearances(though defenders still head the ball for finishing from set pieces). So while a defender may be able to head the ball well, he may not be a good finisher. We are however limited in the data we have here, as we cannot ascertain the position of each player to accurately make this claim. \n",
    "\n",
    "The strong correlations between the finishing attribute and the other variables show that the attribute finishing can be said to have a strong positive relationship with shot power, long shots, volleys and heading accuracy.\n",
    "\n",
    "Predictive analysis can be brought in as further research. Here, all the attributes plotted against finishing in the scatter plot can be aggregated for each player (maybe heading accuracy not included), and this can be used to get another scatter plot. With a trend line from the scatter plot, both finishing and the aggregated striking attributes of a player can be determined.\n",
    "\n",
    "One limitation to this data analysis again is the inabilty to know the positions that the players play, so as to accurately peg some of these analysis to certain players, especially defenders, midfielders and forwards."
   ]
  },
  {
   "cell_type": "markdown",
   "metadata": {},
   "source": [
    "### Research Question 3\n",
    "\n",
    "\n",
    "#### 3. Is the overall rating of all the players normally distributed?"
   ]
  },
  {
   "cell_type": "markdown",
   "metadata": {},
   "source": [
    "Yes, the overall ratings of the players are normally distributed.\n",
    "\n",
    "Normal distribution, also known as the Gaussian distribution, is a probability distribution that is symmetric about the mean, showing that data near the mean are more frequent in occurrence than data far from the mean.\n",
    "\n",
    "As with any probability distribution, the normal distribution describes how the values of a variable are distributed.\n",
    "It is the most important probability distribution in statistics because it accurately describes the distribution of values for many natural phenomena. (definition gotten from the internet).\n",
    "\n",
    "The mean and standard deviation of overall ratings were obtained in our exploratory data analysis section, and alongside the histogram ploted, we can agree that the data on overall rating is normally distributed.\n",
    "\n",
    "There is a good normal distribution around the mean, and the relative distance of the ratings from the mean, which is representative of the standard deviation, are within reasonable range. Hence the data gives a reasonable representation of real life scenarios of ratings in the soccer profession.\n"
   ]
  },
  {
   "cell_type": "code",
   "execution_count": 31,
   "metadata": {},
   "outputs": [
    {
     "data": {
      "text/plain": [
       "0"
      ]
     },
     "execution_count": 31,
     "metadata": {},
     "output_type": "execute_result"
    }
   ],
   "source": [
    "from subprocess import call\n",
    "call(['python', '-m', 'nbconvert', 'Investigate_a_Dataset.ipynb'])"
   ]
  },
  {
   "cell_type": "code",
   "execution_count": null,
   "metadata": {},
   "outputs": [],
   "source": []
  }
 ],
 "metadata": {
  "kernelspec": {
   "display_name": "Python 3",
   "language": "python",
   "name": "python3"
  },
  "language_info": {
   "codemirror_mode": {
    "name": "ipython",
    "version": 3
   },
   "file_extension": ".py",
   "mimetype": "text/x-python",
   "name": "python",
   "nbconvert_exporter": "python",
   "pygments_lexer": "ipython3",
   "version": "3.6.3"
  }
 },
 "nbformat": 4,
 "nbformat_minor": 2
}
